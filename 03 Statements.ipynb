{
 "cells": [
  {
   "cell_type": "code",
   "execution_count": 1,
   "metadata": {},
   "outputs": [
    {
     "name": "stdout",
     "output_type": "stream",
     "text": [
      "Enter word to reverseknob\n",
      "knob\n",
      "slice(0, 1, 4)\n"
     ]
    }
   ],
   "source": [
    "inp = input(\"Enter word to reverse\") \n",
    "print(inp)\n",
    "rev = slice(0,1,len(inp))\n",
    "print(rev)\n"
   ]
  },
  {
   "cell_type": "code",
   "execution_count": 3,
   "metadata": {},
   "outputs": [
    {
     "data": {
      "text/plain": [
       "'knob'"
      ]
     },
     "execution_count": 3,
     "metadata": {},
     "output_type": "execute_result"
    }
   ],
   "source": [
    "str1 = \"knob\"\n",
    "str1[:]"
   ]
  },
  {
   "cell_type": "code",
   "execution_count": 4,
   "metadata": {},
   "outputs": [
    {
     "data": {
      "text/plain": [
       "'kno'"
      ]
     },
     "execution_count": 4,
     "metadata": {},
     "output_type": "execute_result"
    }
   ],
   "source": [
    "str1[:-1]"
   ]
  },
  {
   "cell_type": "code",
   "execution_count": 7,
   "metadata": {},
   "outputs": [
    {
     "data": {
      "text/plain": [
       "20"
      ]
     },
     "execution_count": 7,
     "metadata": {},
     "output_type": "execute_result"
    }
   ],
   "source": [
    "dict1 = {'A':10, 'B':20}\n",
    "dict1['B']"
   ]
  },
  {
   "cell_type": "code",
   "execution_count": 10,
   "metadata": {},
   "outputs": [
    {
     "data": {
      "text/plain": [
       "[('A', 10), ('B', 20)]"
      ]
     },
     "execution_count": 10,
     "metadata": {},
     "output_type": "execute_result"
    }
   ],
   "source": [
    "# .keys()\n",
    "# .values()\n",
    "# .items()\n",
    "\n",
    "list(dict1.keys())\n",
    "list(dict1.values())\n",
    "list(dict1.items())"
   ]
  },
  {
   "cell_type": "code",
   "execution_count": 19,
   "metadata": {},
   "outputs": [
    {
     "name": "stdout",
     "output_type": "stream",
     "text": [
      "My age: 100\n",
      "My age:100\n",
      "\n"
     ]
    }
   ],
   "source": [
    "# Type casting\n",
    "str(10)\n",
    "int('10')\n",
    "list('abcd')\n",
    "dict([(1,10),(2,20)])\n",
    "\n",
    "print(\"My age:\",100)\n",
    "print(\"My age:\" + str(100) + '\\n')"
   ]
  },
  {
   "cell_type": "code",
   "execution_count": 28,
   "metadata": {},
   "outputs": [
    {
     "name": "stdout",
     "output_type": "stream",
     "text": [
      "[1, 2, 3]\n",
      "[4, 5]\n",
      "5\n"
     ]
    }
   ],
   "source": [
    "# Statements\n",
    "\n",
    "var1 = 100 + 50 # Statement\n",
    "100 + 50 # Expression\n",
    "\n",
    "var1, *var2 = 1, 2, 3, 4, 5\n",
    "*var1, var2 = 1, 2, 3, 4, 5\n",
    "var1, *var2, var3 = 1, 2, 3, 4, 5\n",
    "\n",
    "*var1, var2 = 1, 2, 3, [4, 5]\n",
    "\n",
    "print(var1)\n",
    "print(var2)\n",
    "print(var3)\n",
    "\n"
   ]
  },
  {
   "cell_type": "code",
   "execution_count": 38,
   "metadata": {},
   "outputs": [
    {
     "ename": "SyntaxError",
     "evalue": "invalid syntax (<ipython-input-38-386bfaf58ca6>, line 27)",
     "output_type": "error",
     "traceback": [
      "\u001b[1;36m  File \u001b[1;32m\"<ipython-input-38-386bfaf58ca6>\"\u001b[1;36m, line \u001b[1;32m27\u001b[0m\n\u001b[1;33m    if var1 = 32:\u001b[0m\n\u001b[1;37m            ^\u001b[0m\n\u001b[1;31mSyntaxError\u001b[0m\u001b[1;31m:\u001b[0m invalid syntax\n"
     ]
    }
   ],
   "source": [
    "\"\"\"\n",
    "if condition :\n",
    "    body\n",
    "elif condition :\n",
    "    body\n",
    "else :\n",
    "    body\n",
    "\"\"\"\n",
    "\n",
    "# Conditional operators\n",
    "# is- same as?\n",
    "# in- contains?\n",
    "\n",
    "if 3 in [1,2,3,4]:\n",
    "    print('ye')\n",
    "    \n",
    "# Different objects, i.e. differents memory slots,\n",
    "#   Changing one doesn't affect the other\n",
    "if {1,2,3} is {2,1,3}:\n",
    "    print('yes')\n",
    "    \n",
    "# Same values when elements compared\n",
    "if {1,2,3} == {2,1,3}:\n",
    "    print('oh yes')\n",
    "    "
   ]
  },
  {
   "cell_type": "code",
   "execution_count": 48,
   "metadata": {},
   "outputs": [
    {
     "name": "stdout",
     "output_type": "stream",
     "text": [
      "oh no\n",
      "oh no\n",
      "oh no\n",
      "oh no\n",
      "1\n",
      "3\n",
      "5\n",
      "7\n",
      "9\n",
      "1\n",
      "2\n",
      "3\n",
      "1\n",
      "3\n",
      "5\n",
      "7\n",
      "9\n"
     ]
    }
   ],
   "source": [
    "# Loops\n",
    "\n",
    "# range(start, stop, step)\n",
    "list(range(1,10,2))\n",
    "\n",
    "\"\"\"\n",
    "while condition:\n",
    "    body\n",
    "    \n",
    "for variable in iterable:\n",
    "    body\n",
    "    \n",
    "Note: Indentation defines the body start and end\n",
    "\"\"\"\n",
    "var = 1\n",
    "while var < 5:\n",
    "    print('oh no')\n",
    "    var = var + 1\n",
    "#    if pass:\n",
    "#        print('...')\n",
    "\n",
    "while var > 10:\n",
    "    print('greater')\n",
    "else:\n",
    "    print('nopes')\n",
    "\n",
    "for var in [1,3,5,7,9]:\n",
    "    print(var)\n",
    "    \n",
    "# Runs through keys\n",
    "for var in {1:10,2:20,3:30}:\n",
    "    print(var)\n",
    "    \n",
    "for var in range(1,10,2):\n",
    "    print(var)\n",
    "    \n"
   ]
  },
  {
   "cell_type": "code",
   "execution_count": 49,
   "metadata": {},
   "outputs": [
    {
     "name": "stdout",
     "output_type": "stream",
     "text": [
      "Enter something.. plz:123\n"
     ]
    }
   ],
   "source": [
    "# Console input\n",
    "\n",
    "var1 = input('Enter something.. plz:')"
   ]
  },
  {
   "cell_type": "code",
   "execution_count": null,
   "metadata": {},
   "outputs": [],
   "source": [
    "\"\"\"\n",
    "N\n",
    "\n",
    "*\n",
    "**\n",
    "***\n",
    "****\n",
    "\n",
    "\"\"\""
   ]
  },
  {
   "cell_type": "code",
   "execution_count": null,
   "metadata": {},
   "outputs": [],
   "source": [
    "mat1 = [[1,2,3],[4,5,6],[7,8,9]]\n",
    "mat2 = [[10,20,30],[40,50,60],[70,80,90]]\n",
    "# Add em up"
   ]
  },
  {
   "cell_type": "code",
   "execution_count": null,
   "metadata": {},
   "outputs": [],
   "source": [
    "# Leap year\n",
    "\n",
    "# divisible by 4\n",
    "# not divisible by 100 unless also divisible by 400"
   ]
  }
 ],
 "metadata": {
  "kernelspec": {
   "display_name": "Python 3",
   "language": "python",
   "name": "python3"
  },
  "language_info": {
   "codemirror_mode": {
    "name": "ipython",
    "version": 3
   },
   "file_extension": ".py",
   "mimetype": "text/x-python",
   "name": "python",
   "nbconvert_exporter": "python",
   "pygments_lexer": "ipython3",
   "version": "3.7.7"
  }
 },
 "nbformat": 4,
 "nbformat_minor": 4
}
