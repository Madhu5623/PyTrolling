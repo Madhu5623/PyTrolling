{
 "cells": [
  {
   "cell_type": "code",
   "execution_count": null,
   "metadata": {},
   "outputs": [],
   "source": [
    "# Data Types\n",
    "\"\"\"\n",
    "Numbers\n",
    "Strings\n",
    "Booleans\n",
    "\n",
    "Lists\n",
    "Tuples\n",
    "Sets\n",
    "\n",
    "Dictionaries\n",
    "\"\"\""
   ]
  },
  {
   "cell_type": "code",
   "execution_count": null,
   "metadata": {},
   "outputs": [],
   "source": [
    "var1 = 1\n",
    "var2 = \"str\""
   ]
  },
  {
   "cell_type": "code",
   "execution_count": null,
   "metadata": {},
   "outputs": [],
   "source": [
    "\"\"\"\n",
    "    name  numbers\n",
    "1   oinky  123, 4321\n",
    "2   poinky 900\n",
    "\"\"\""
   ]
  },
  {
   "cell_type": "code",
   "execution_count": 3,
   "metadata": {},
   "outputs": [
    {
     "data": {
      "text/plain": [
       "2"
      ]
     },
     "execution_count": 3,
     "metadata": {},
     "output_type": "execute_result"
    }
   ],
   "source": [
    "# Numbers\n",
    "\"\"\"\n",
    "exp- **\n",
    "div- /, //\n",
    "    \n",
    "\"\"\"\n",
    "3 / 2\n",
    "5 // 2"
   ]
  },
  {
   "cell_type": "code",
   "execution_count": 37,
   "metadata": {},
   "outputs": [
    {
     "name": "stdout",
     "output_type": "stream",
     "text": [
      "[2, 4, 1]\n",
      "[1, 4, 6]\n"
     ]
    },
    {
     "data": {
      "text/plain": [
       "'oioioioioi'"
      ]
     },
     "execution_count": 37,
     "metadata": {},
     "output_type": "execute_result"
    }
   ],
   "source": [
    "# Sequences\n",
    "# Strings, lists, tuples\n",
    "\n",
    "# Indexing-\n",
    "\"boinky\"[0]\n",
    "\"boinky\"[-1]\n",
    "\"boinky\"[-2]\n",
    "\n",
    "# Slicing-\n",
    "\"mickey\"[2:5]\n",
    "\"mickey\"[2:]\n",
    "\"mickey\"[:4]\n",
    "\n",
    "\"mickey\"[0:-1:2]\n",
    "# Start, Stop, Step\n",
    "\n",
    "\"mickecy\".index('c') # Methods\n",
    "\n",
    "len(\"mickey\") # Functions\n",
    "# len() is built-in function\n",
    "\n",
    "list1 = [2, 4, 1]\n",
    "sorted(list1)\n",
    "print(list1)\n",
    "# Built-in\n",
    "\n",
    "list2 = [4, 6, 1]\n",
    "list2.sort()\n",
    "print(list2)\n",
    "\n",
    "\"mickey\" + \"mouse\"\n",
    "\"oi\" * 5"
   ]
  },
  {
   "cell_type": "code",
   "execution_count": 18,
   "metadata": {
    "scrolled": true
   },
   "outputs": [
    {
     "data": {
      "text/plain": [
       "0"
      ]
     },
     "execution_count": 18,
     "metadata": {},
     "output_type": "execute_result"
    }
   ],
   "source": [
    "name='asd'\n",
    "name.index('a')"
   ]
  },
  {
   "cell_type": "code",
   "execution_count": 26,
   "metadata": {
    "scrolled": true
   },
   "outputs": [
    {
     "data": {
      "text/plain": [
       "'mickey mouse'"
      ]
     },
     "execution_count": 26,
     "metadata": {},
     "output_type": "execute_result"
    }
   ],
   "source": [
    "# Strings\n",
    "\"\"\"\n",
    ".upper()\n",
    ".startswith()\n",
    ".find(value)\n",
    ".replace(old, new)\n",
    ".isalpha()\n",
    ".isnumeric()\n",
    "\"\"\"\n",
    "\n",
    "\"mickey mouse\".split(' ')\n",
    "\" \".join(['mickey', 'mouse'])"
   ]
  },
  {
   "cell_type": "code",
   "execution_count": 33,
   "metadata": {},
   "outputs": [
    {
     "name": "stdout",
     "output_type": "stream",
     "text": [
      "[1, 2, 3, 4, 5]\n",
      "[10, 30, 40, 20]\n",
      "[1, 'asd', [1, 2, 3, 4, 5]]\n"
     ]
    }
   ],
   "source": [
    "# List\n",
    "\"\"\"\n",
    ".append(value)\n",
    ".insert(index, value)\n",
    ".pop(value)\n",
    ".remove(value)  # Only first occurence\n",
    "\"\"\"\n",
    "\n",
    "list1 = [1,2,3,4]\n",
    "list1.append(5)\n",
    "print(list1)\n",
    "\n",
    "list2 = [10,20,30,40,20]\n",
    "list2.remove(20)\n",
    "print(list2)\n",
    "\n",
    "list3 = [1, \"asd\", list1]\n",
    "print(list3)"
   ]
  },
  {
   "cell_type": "code",
   "execution_count": 34,
   "metadata": {},
   "outputs": [
    {
     "ename": "AttributeError",
     "evalue": "'tuple' object has no attribute 'append'",
     "output_type": "error",
     "traceback": [
      "\u001b[1;31m---------------------------------------------------------------------------\u001b[0m",
      "\u001b[1;31mAttributeError\u001b[0m                            Traceback (most recent call last)",
      "\u001b[1;32m<ipython-input-34-dab1cf023b16>\u001b[0m in \u001b[0;36m<module>\u001b[1;34m\u001b[0m\n\u001b[0;32m      1\u001b[0m \u001b[1;31m# Tuples\u001b[0m\u001b[1;33m\u001b[0m\u001b[1;33m\u001b[0m\u001b[1;33m\u001b[0m\u001b[0m\n\u001b[0;32m      2\u001b[0m \u001b[0mtup1\u001b[0m \u001b[1;33m=\u001b[0m \u001b[1;33m(\u001b[0m\u001b[1;36m1\u001b[0m\u001b[1;33m,\u001b[0m\u001b[1;36m2\u001b[0m\u001b[1;33m,\u001b[0m\u001b[1;36m3\u001b[0m\u001b[1;33m)\u001b[0m\u001b[1;33m\u001b[0m\u001b[1;33m\u001b[0m\u001b[0m\n\u001b[1;32m----> 3\u001b[1;33m \u001b[0mtup1\u001b[0m\u001b[1;33m.\u001b[0m\u001b[0mappend\u001b[0m\u001b[1;33m(\u001b[0m\u001b[1;36m5\u001b[0m\u001b[1;33m)\u001b[0m\u001b[1;33m\u001b[0m\u001b[1;33m\u001b[0m\u001b[0m\n\u001b[0m\u001b[0;32m      4\u001b[0m \u001b[0mprint\u001b[0m\u001b[1;33m(\u001b[0m\u001b[0mtup1\u001b[0m\u001b[1;33m)\u001b[0m\u001b[1;33m\u001b[0m\u001b[1;33m\u001b[0m\u001b[0m\n",
      "\u001b[1;31mAttributeError\u001b[0m: 'tuple' object has no attribute 'append'"
     ]
    }
   ],
   "source": [
    "# Tuples\n",
    "tup1 = (1,2,3)\n",
    "tup1.append(5)\n",
    "print(tup1)\n",
    "# Can't modify existing object"
   ]
  },
  {
   "cell_type": "code",
   "execution_count": 40,
   "metadata": {},
   "outputs": [
    {
     "name": "stdout",
     "output_type": "stream",
     "text": [
      "(1, 2, 3, [10, 20, 30])\n"
     ]
    },
    {
     "ename": "TypeError",
     "evalue": "unhashable type: 'list'",
     "output_type": "error",
     "traceback": [
      "\u001b[1;31m---------------------------------------------------------------------------\u001b[0m",
      "\u001b[1;31mTypeError\u001b[0m                                 Traceback (most recent call last)",
      "\u001b[1;32m<ipython-input-40-d59049a506da>\u001b[0m in \u001b[0;36m<module>\u001b[1;34m\u001b[0m\n\u001b[0;32m      2\u001b[0m \u001b[0mprint\u001b[0m\u001b[1;33m(\u001b[0m\u001b[0mtup1\u001b[0m\u001b[1;33m)\u001b[0m\u001b[1;33m\u001b[0m\u001b[1;33m\u001b[0m\u001b[0m\n\u001b[0;32m      3\u001b[0m \u001b[1;33m\u001b[0m\u001b[0m\n\u001b[1;32m----> 4\u001b[1;33m \u001b[0mdict1\u001b[0m \u001b[1;33m=\u001b[0m \u001b[1;33m{\u001b[0m\u001b[0mtup1\u001b[0m\u001b[1;33m:\u001b[0m \u001b[1;36m10\u001b[0m\u001b[1;33m}\u001b[0m\u001b[1;33m\u001b[0m\u001b[1;33m\u001b[0m\u001b[0m\n\u001b[0m",
      "\u001b[1;31mTypeError\u001b[0m: unhashable type: 'list'"
     ]
    }
   ],
   "source": [
    "tup1 = (1,2,3, [10,20,30])\n",
    "print(tup1)\n",
    "\n",
    "dict1 = {tup1: 10}"
   ]
  },
  {
   "cell_type": "code",
   "execution_count": 42,
   "metadata": {},
   "outputs": [
    {
     "name": "stdout",
     "output_type": "stream",
     "text": [
      "1 2 3\n"
     ]
    }
   ],
   "source": [
    "var1, var2, var3 = 1, 2, 3\n",
    "# (var1, var2, var3) = (1, 2, 3)\n",
    "print(var1, var2, var3)"
   ]
  },
  {
   "cell_type": "code",
   "execution_count": 54,
   "metadata": {},
   "outputs": [],
   "source": [
    "# Dictionaries\n",
    "\n",
    "{'key':'val',}\n",
    "\n",
    "dict(key1 = 'val1', key2 = 'val2')\n",
    "\n",
    "dict([(\"Hello\" , 7), (\"hi\" , 10)])\n",
    "\n",
    "listNames = ['asd', 'zcx']\n",
    "listNum = [123, 345]"
   ]
  }
 ],
 "metadata": {
  "kernelspec": {
   "display_name": "Python 3",
   "language": "python",
   "name": "python3"
  },
  "language_info": {
   "codemirror_mode": {
    "name": "ipython",
    "version": 3
   },
   "file_extension": ".py",
   "mimetype": "text/x-python",
   "name": "python",
   "nbconvert_exporter": "python",
   "pygments_lexer": "ipython3",
   "version": "3.7.7"
  }
 },
 "nbformat": 4,
 "nbformat_minor": 4
}
