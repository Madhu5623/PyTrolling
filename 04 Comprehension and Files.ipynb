{
 "cells": [
  {
   "cell_type": "code",
   "execution_count": 31,
   "metadata": {},
   "outputs": [
    {
     "name": "stdout",
     "output_type": "stream",
     "text": [
      "[(0, 0), (0, 1), (0, 2), (1, 0), (1, 1), (1, 2), (2, 0), (2, 1), (2, 2)]\n",
      "\n",
      "[(0, 0), (0, 1), (0, 2), (1, 0), (1, 1), (1, 2), (2, 0), (2, 1), (2, 2)]\n",
      "\n",
      "[1, 3, 5, 7, 9]\n"
     ]
    }
   ],
   "source": [
    "# Comprehensions\n",
    "# Single line loops to generate data\n",
    "\n",
    "[x for x in range(1,10)]\n",
    "(x for x in range(1,10))\n",
    "{x for x in range(1,10)}\n",
    "{x:y for (x,y) in zip(range(5), range(5))}\n",
    "\n",
    "#list(zip(range(5), range(5)))\n",
    "\n",
    "list1 = []\n",
    "for x in range(3):\n",
    "    for y in range(3):\n",
    "        list1.append((x,y))\n",
    "print(list1, end='\\n\\n')\n",
    "\n",
    "list2 = [(x,y) for x in range(3) for y in range(3)]\n",
    "print(list2, end='\\n\\n')\n",
    "\n",
    "list4 = [x for x in range(10) if x%2 == 1]\n",
    "print(list4)"
   ]
  },
  {
   "cell_type": "code",
   "execution_count": 17,
   "metadata": {},
   "outputs": [
    {
     "data": {
      "text/plain": [
       "['__class__',\n",
       " '__contains__',\n",
       " '__delattr__',\n",
       " '__delitem__',\n",
       " '__dir__',\n",
       " '__doc__',\n",
       " '__eq__',\n",
       " '__format__',\n",
       " '__ge__',\n",
       " '__getattribute__',\n",
       " '__getitem__',\n",
       " '__gt__',\n",
       " '__hash__',\n",
       " '__init__',\n",
       " '__init_subclass__',\n",
       " '__iter__',\n",
       " '__le__',\n",
       " '__len__',\n",
       " '__lt__',\n",
       " '__ne__',\n",
       " '__new__',\n",
       " '__reduce__',\n",
       " '__reduce_ex__',\n",
       " '__repr__',\n",
       " '__setattr__',\n",
       " '__setitem__',\n",
       " '__sizeof__',\n",
       " '__str__',\n",
       " '__subclasshook__',\n",
       " 'clear',\n",
       " 'copy',\n",
       " 'fromkeys',\n",
       " 'get',\n",
       " 'items',\n",
       " 'keys',\n",
       " 'pop',\n",
       " 'popitem',\n",
       " 'setdefault',\n",
       " 'update',\n",
       " 'values']"
      ]
     },
     "execution_count": 17,
     "metadata": {},
     "output_type": "execute_result"
    }
   ],
   "source": [
    "# help()\n",
    "# dir()\n",
    "\n",
    "dir(dict)"
   ]
  },
  {
   "cell_type": "code",
   "execution_count": 46,
   "metadata": {},
   "outputs": [
    {
     "name": "stdout",
     "output_type": "stream",
     "text": [
      "don key\n",
      "don key 7\n",
      "don key mon key 15\n",
      "\n",
      "func1: 9\n",
      "func2: 81\n"
     ]
    }
   ],
   "source": [
    "# Functions\n",
    "\n",
    "# def functionName(arguments):\n",
    "#    body\n",
    "\n",
    "# definition\n",
    "def makeLine(word1, word2):\n",
    "    return \" \".join([word1, word2])\n",
    "\n",
    "# call\n",
    "x = makeLine(\"don\", \"key\")\n",
    "print(x)\n",
    "\n",
    "# Return multiple\n",
    "def makeLine(word1, word2):\n",
    "    result = \" \".join([word1, word2])\n",
    "    return result, len(result)\n",
    "\n",
    "str1, len1 = makeLine(\"don\", \"key\")\n",
    "print(str1, len1)\n",
    "\n",
    "# Multiple parameters\n",
    "def makeLine(word1, *words):\n",
    "    wordList = [word1]\n",
    "    wordList.extend(words) #None\n",
    "    result = \" \".join(wordList)\n",
    "    return result, len(result)\n",
    "\n",
    "str1, len1 = makeLine(\"don\", \"key\", \"mon\", \"key\")\n",
    "print(str1, len1, end='\\n\\n')\n",
    "\n",
    "# Nested functions\n",
    "def func1(x):\n",
    "    print(\"func1:\",x)\n",
    "    \n",
    "    def func2(x):\n",
    "        print(\"func2:\", x**2)\n",
    "    func2(x)\n",
    "    \n",
    "func1(9)\n",
    "\n",
    "# Note: Must define a function before calling in a file"
   ]
  },
  {
   "cell_type": "code",
   "execution_count": 58,
   "metadata": {},
   "outputs": [],
   "source": [
    "# File handling\n",
    "\n",
    "# open(filePath, mode)\n",
    "# close()\n",
    "# read()\n",
    "# write()\n",
    "# readLine()\n",
    "\n",
    "# Modes-\n",
    "#  r - read\n",
    "#  w - overwrite and create\n",
    "#  a - append\n",
    "#  r+ - read and write\n",
    "#  w+ - read and write\n",
    "\n",
    "# Paths-\n",
    "#  . - current dir\n",
    "#  .. - parent dir\n",
    "\n",
    "filePath = \"C:\\\\Users\\\\Harsh\\\\Desktop\\\\PyTrolling Folder\\\\newFile.txt\"\n",
    "file1 = open(filePath, 'w')\n",
    "file1.write('aksdjlajsdka\\n')\n",
    "file1.flush()\n",
    "file1.close()\n",
    "\n",
    "filePath = \".\\\\newFile.txt\"\n",
    "file1 = open(filePath, 'a')\n",
    "file1.write('hola my man..!\\n')\n",
    "file1.flush()\n",
    "file1.close()\n",
    "\n",
    "filePath = \".\\\\newFile.txt\"\n",
    "file1 = open(filePath, 'r+')\n",
    "content = file1.read()\n",
    "content *= 2\n",
    "file1.write(content)\n",
    "file1.flush()\n",
    "file1.close()"
   ]
  },
  {
   "cell_type": "code",
   "execution_count": 62,
   "metadata": {},
   "outputs": [
    {
     "name": "stdout",
     "output_type": "stream",
     "text": [
      "{1: 10, 2: 20}\n"
     ]
    }
   ],
   "source": [
    "# Python objects in file\n",
    "import pickle as pkl\n",
    "\n",
    "dict1 = {1:10, 2:20}\n",
    "file2 = open('.\\\\binaryFile.bin', 'wb')\n",
    "pkl.dump(dict1, file2)\n",
    "file2.close()\n",
    "\n",
    "file2 = open('.\\\\binaryFile.bin', 'rb')\n",
    "dict2 = pkl.load(file2)\n",
    "file2.close()\n",
    "print(dict2)"
   ]
  },
  {
   "cell_type": "code",
   "execution_count": 76,
   "metadata": {},
   "outputs": [
    {
     "name": "stdout",
     "output_type": "stream",
     "text": [
      "{\"1\": 10, \"2\": 20}\n",
      "[['1', '2', '3'], [], ['4', '5', '6'], []]\n"
     ]
    }
   ],
   "source": [
    "# XML, JSON, CSV\n",
    "\n",
    "import json\n",
    "\n",
    "dict1 = {1:10, 2:20}\n",
    "file1 = open('.\\\\jsonFile.json', 'w')\n",
    "dictAsStr = json.dumps(dict1)\n",
    "print(dictAsStr)\n",
    "file1.write(dictAsStr)\n",
    "file1.close()\n",
    "\n",
    "import csv\n",
    "\n",
    "list1 = [[1,2,3],[4,5,6]]\n",
    "file1 = open('.\\\\csvFile.csv', 'w')\n",
    "writer = csv.writer(file1)\n",
    "writer.writerows(list1)\n",
    "file1.close()\n",
    "\n",
    "list2 = []\n",
    "file1 = open('.\\\\csvFile.csv', 'r')\n",
    "reader = csv.reader(file1)\n",
    "for row in reader:\n",
    "    list2.append(row)\n",
    "file1.close()\n",
    "print(list2)"
   ]
  },
  {
   "cell_type": "code",
   "execution_count": 78,
   "metadata": {},
   "outputs": [
    {
     "name": "stdout",
     "output_type": "stream",
     "text": [
      "division by zero\n",
      "still running...\n"
     ]
    }
   ],
   "source": [
    "# Exception handling\n",
    "var = 0\n",
    "\n",
    "try:\n",
    "    1/var\n",
    "except ZeroDivisionError as zde:\n",
    "    print(zde)\n",
    "except :\n",
    "    print('unexpected exceptions here')\n",
    "    \n",
    "print('still running...')"
   ]
  },
  {
   "cell_type": "code",
   "execution_count": null,
   "metadata": {},
   "outputs": [],
   "source": [
    "[[1,2,3,4],[5,6,7,8],[9,10,11,12],[13,14,15,16]]\n",
    "\n",
    "# Split into 4 2x2 matrices using one line"
   ]
  }
 ],
 "metadata": {
  "kernelspec": {
   "display_name": "Python 3",
   "language": "python",
   "name": "python3"
  },
  "language_info": {
   "codemirror_mode": {
    "name": "ipython",
    "version": 3
   },
   "file_extension": ".py",
   "mimetype": "text/x-python",
   "name": "python",
   "nbconvert_exporter": "python",
   "pygments_lexer": "ipython3",
   "version": "3.7.7"
  }
 },
 "nbformat": 4,
 "nbformat_minor": 4
}
