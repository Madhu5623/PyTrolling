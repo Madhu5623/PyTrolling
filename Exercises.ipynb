{
 "cells": [
  {
   "cell_type": "code",
   "execution_count": 19,
   "metadata": {},
   "outputs": [
    {
     "name": "stdout",
     "output_type": "stream",
     "text": [
      "[[[1, 2], [5, 6]], [[3, 4], [7, 8]], [[9, 10], [13, 14]], [[11, 12], [15, 16]]]\n"
     ]
    }
   ],
   "source": [
    "# Split matrix into 2x2 matrices\n",
    "\n",
    "inputMatrix = [[1,2,3,4],\n",
    "               [5,6,7,8],\n",
    "               [9,10,11,12],\n",
    "               [13,14,15,16]]\n",
    "\n",
    "# Using loops-\n",
    "outputMatrixList = []  # List of 2x2 matrices\n",
    "for row in range(0, len(inputMatrix), 2):  # Jumping by 2 to get 2x2 matrices instead of cells\n",
    "    for col in range(0, len(inputMatrix), 2):\n",
    "        matrixSlice = [[inputMatrix[row][col], inputMatrix[row][col+1]],\n",
    "                       [inputMatrix[row+1][col], inputMatrix[row+1][col+1]]]\n",
    "        outputMatrixList.append(matrixSlice)\n",
    "        \n",
    "# Using nested comprehension-\n",
    "outputMatrixList = [[[inputMatrix[r+x][c+y] for y in range(2)] for x in range(2)]\n",
    "                    for r in range(0,len(inputMatrix),2) for c in range(0,len(inputMatrix),2)]\n",
    "        \n",
    "print(outputMatrixList)"
   ]
  },
  {
   "cell_type": "code",
   "execution_count": 7,
   "metadata": {},
   "outputs": [
    {
     "name": "stdout",
     "output_type": "stream",
     "text": [
      "7 files copied.\n"
     ]
    }
   ],
   "source": [
    "# Spotlight wallpaper theft script\n",
    "import os\n",
    "import shutil\n",
    "\n",
    "sourceDir = (\"C:\\\\Users\\\\Harsh\\\\AppData\\\\Local\\\\Packages\\\\\"\n",
    "    + \"Microsoft.Windows.ContentDeliveryManager_cw5n1h2txyewy\\\\LocalState\\\\Assets\\\\\")\n",
    "outputDir = \"D:\\\\Pictures\\\\Spotlight wallpapers\\\\New\\\\\"\n",
    "\n",
    "# Get file names\n",
    "fileList = os.listdir(sourceDir)\n",
    "\n",
    "# Filter files with size above 100KB\n",
    "fileList = [file for file in fileList if os.stat(sourceDir + file).st_size >= 102400]\n",
    "\n",
    "# Copy files to output directory and rename them\n",
    "counter = 1\n",
    "for src in fileList:\n",
    "    srcFullPath = sourceDir + src\n",
    "    dstFullPath = outputDir + \"pic\" + str(counter) + \".jpg\"\n",
    "    \n",
    "    shutil.copyfile(srcFullPath, dstFullPath)\n",
    "    counter += 1\n",
    "    \n",
    "print(counter, \"files copied.\")\n",
    "        "
   ]
  }
 ],
 "metadata": {
  "kernelspec": {
   "display_name": "Python 3",
   "language": "python",
   "name": "python3"
  },
  "language_info": {
   "codemirror_mode": {
    "name": "ipython",
    "version": 3
   },
   "file_extension": ".py",
   "mimetype": "text/x-python",
   "name": "python",
   "nbconvert_exporter": "python",
   "pygments_lexer": "ipython3",
   "version": "3.7.7"
  }
 },
 "nbformat": 4,
 "nbformat_minor": 4
}
